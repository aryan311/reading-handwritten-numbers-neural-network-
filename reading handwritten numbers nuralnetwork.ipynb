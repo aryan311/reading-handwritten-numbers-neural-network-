{
 "cells": [
  {
   "cell_type": "markdown",
   "id": "25c1b0b4",
   "metadata": {},
   "source": [
    "# Reading handwritten numbers"
   ]
  },
  {
   "cell_type": "code",
   "execution_count": 12,
   "id": "8f4ddfe8",
   "metadata": {},
   "outputs": [],
   "source": [
    "import tensorflow as tf\n",
    "\n",
    "mnist = tf.keras.datasets.mnist\n",
    "import matplotlib.pyplot as plt"
   ]
  },
  {
   "cell_type": "code",
   "execution_count": 13,
   "id": "f387481a",
   "metadata": {},
   "outputs": [],
   "source": [
    "# importing and splitting dataset\n",
    "(x_train,y_train), (x_test,y_test)= mnist.load_data()"
   ]
  },
  {
   "cell_type": "code",
   "execution_count": 14,
   "id": "c96bd666",
   "metadata": {},
   "outputs": [
    {
     "name": "stdout",
     "output_type": "stream",
     "text": [
      "[[  0   0   0   0   0   0   0   0   0   0   0   0   0   0   0   0   0   0\n",
      "    0   0   0   0   0   0   0   0   0   0]\n",
      " [  0   0   0   0   0   0   0   0   0   0   0   0   0   0   0   0   0   0\n",
      "    0   0   0   0   0   0   0   0   0   0]\n",
      " [  0   0   0   0   0   0   0   0   0   0   0   0   0   0   0   0   0   0\n",
      "    0   0   0   0   0   0   0   0   0   0]\n",
      " [  0   0   0   0   0   0   0   0   0   0   0   0   0   0   0   0   0   0\n",
      "    0   0   0   0   0   0   0   0   0   0]\n",
      " [  0   0   0   0   0   0   0   0   0   0   0   0   0   0   0  51 159 253\n",
      "  159  50   0   0   0   0   0   0   0   0]\n",
      " [  0   0   0   0   0   0   0   0   0   0   0   0   0   0  48 238 252 252\n",
      "  252 237   0   0   0   0   0   0   0   0]\n",
      " [  0   0   0   0   0   0   0   0   0   0   0   0   0  54 227 253 252 239\n",
      "  233 252  57   6   0   0   0   0   0   0]\n",
      " [  0   0   0   0   0   0   0   0   0   0   0  10  60 224 252 253 252 202\n",
      "   84 252 253 122   0   0   0   0   0   0]\n",
      " [  0   0   0   0   0   0   0   0   0   0   0 163 252 252 252 253 252 252\n",
      "   96 189 253 167   0   0   0   0   0   0]\n",
      " [  0   0   0   0   0   0   0   0   0   0  51 238 253 253 190 114 253 228\n",
      "   47  79 255 168   0   0   0   0   0   0]\n",
      " [  0   0   0   0   0   0   0   0   0  48 238 252 252 179  12  75 121  21\n",
      "    0   0 253 243  50   0   0   0   0   0]\n",
      " [  0   0   0   0   0   0   0   0  38 165 253 233 208  84   0   0   0   0\n",
      "    0   0 253 252 165   0   0   0   0   0]\n",
      " [  0   0   0   0   0   0   0   7 178 252 240  71  19  28   0   0   0   0\n",
      "    0   0 253 252 195   0   0   0   0   0]\n",
      " [  0   0   0   0   0   0   0  57 252 252  63   0   0   0   0   0   0   0\n",
      "    0   0 253 252 195   0   0   0   0   0]\n",
      " [  0   0   0   0   0   0   0 198 253 190   0   0   0   0   0   0   0   0\n",
      "    0   0 255 253 196   0   0   0   0   0]\n",
      " [  0   0   0   0   0   0  76 246 252 112   0   0   0   0   0   0   0   0\n",
      "    0   0 253 252 148   0   0   0   0   0]\n",
      " [  0   0   0   0   0   0  85 252 230  25   0   0   0   0   0   0   0   0\n",
      "    7 135 253 186  12   0   0   0   0   0]\n",
      " [  0   0   0   0   0   0  85 252 223   0   0   0   0   0   0   0   0   7\n",
      "  131 252 225  71   0   0   0   0   0   0]\n",
      " [  0   0   0   0   0   0  85 252 145   0   0   0   0   0   0   0  48 165\n",
      "  252 173   0   0   0   0   0   0   0   0]\n",
      " [  0   0   0   0   0   0  86 253 225   0   0   0   0   0   0 114 238 253\n",
      "  162   0   0   0   0   0   0   0   0   0]\n",
      " [  0   0   0   0   0   0  85 252 249 146  48  29  85 178 225 253 223 167\n",
      "   56   0   0   0   0   0   0   0   0   0]\n",
      " [  0   0   0   0   0   0  85 252 252 252 229 215 252 252 252 196 130   0\n",
      "    0   0   0   0   0   0   0   0   0   0]\n",
      " [  0   0   0   0   0   0  28 199 252 252 253 252 252 233 145   0   0   0\n",
      "    0   0   0   0   0   0   0   0   0   0]\n",
      " [  0   0   0   0   0   0   0  25 128 252 253 252 141  37   0   0   0   0\n",
      "    0   0   0   0   0   0   0   0   0   0]\n",
      " [  0   0   0   0   0   0   0   0   0   0   0   0   0   0   0   0   0   0\n",
      "    0   0   0   0   0   0   0   0   0   0]\n",
      " [  0   0   0   0   0   0   0   0   0   0   0   0   0   0   0   0   0   0\n",
      "    0   0   0   0   0   0   0   0   0   0]\n",
      " [  0   0   0   0   0   0   0   0   0   0   0   0   0   0   0   0   0   0\n",
      "    0   0   0   0   0   0   0   0   0   0]\n",
      " [  0   0   0   0   0   0   0   0   0   0   0   0   0   0   0   0   0   0\n",
      "    0   0   0   0   0   0   0   0   0   0]]\n"
     ]
    }
   ],
   "source": [
    "print(x_train[1])"
   ]
  },
  {
   "cell_type": "code",
   "execution_count": 15,
   "id": "02fe2bb7",
   "metadata": {},
   "outputs": [],
   "source": [
    "# this from is not readable so we need to convert it to readable form"
   ]
  },
  {
   "cell_type": "code",
   "execution_count": 16,
   "id": "96d4daa3",
   "metadata": {},
   "outputs": [
    {
     "data": {
      "image/png": "[encoded data removed]",
      "text/plain": [
       "<Figure size 432x288 with 1 Axes>"
      ]
     },
     "metadata": {
      "needs_background": "light"
     },
     "output_type": "display_data"
    }
   ],
   "source": [
    "plt.imshow(x_train[1],cmap= plt.cm.binary)\n",
    "plt.show()"
   ]
  },
  {
   "cell_type": "code",
   "execution_count": 17,
   "id": "50a218ce",
   "metadata": {},
   "outputs": [],
   "source": [
    "# defining model now"
   ]
  },
  {
   "cell_type": "code",
   "execution_count": 19,
   "id": "a045eb7f",
   "metadata": {},
   "outputs": [
    {
     "name": "stdout",
     "output_type": "stream",
     "text": [
      "Epoch 1/25\n",
      "1875/1875 [==============================] - 4s 1ms/step - loss: 0.2542 - accuracy: 0.9261\n",
      "Epoch 2/25\n",
      "1875/1875 [==============================] - 2s 1ms/step - loss: 0.1033 - accuracy: 0.9684\n",
      "Epoch 3/25\n",
      "1875/1875 [==============================] - 2s 1ms/step - loss: 0.0694 - accuracy: 0.9781\n",
      "Epoch 4/25\n",
      "1875/1875 [==============================] - 2s 1ms/step - loss: 0.0503 - accuracy: 0.9839\n",
      "Epoch 5/25\n",
      "1875/1875 [==============================] - 2s 994us/step - loss: 0.0379 - accuracy: 0.9879\n",
      "Epoch 6/25\n",
      "1875/1875 [==============================] - 2s 994us/step - loss: 0.0305 - accuracy: 0.9900\n",
      "Epoch 7/25\n",
      "1875/1875 [==============================] - 2s 995us/step - loss: 0.0236 - accuracy: 0.9923\n",
      "Epoch 8/25\n",
      "1875/1875 [==============================] - 2s 994us/step - loss: 0.0208 - accuracy: 0.9926\n",
      "Epoch 9/25\n",
      "1875/1875 [==============================] - 2s 1ms/step - loss: 0.0173 - accuracy: 0.9944\n",
      "Epoch 10/25\n",
      "1875/1875 [==============================] - 2s 1ms/step - loss: 0.0155 - accuracy: 0.9944\n",
      "Epoch 11/25\n",
      "1875/1875 [==============================] - 2s 1ms/step - loss: 0.0120 - accuracy: 0.9959\n",
      "Epoch 12/25\n",
      "1875/1875 [==============================] - 2s 1ms/step - loss: 0.0129 - accuracy: 0.9954\n",
      "Epoch 13/25\n",
      "1875/1875 [==============================] - 2s 1ms/step - loss: 0.0122 - accuracy: 0.9960\n",
      "Epoch 14/25\n",
      "1875/1875 [==============================] - 2s 1ms/step - loss: 0.0100 - accuracy: 0.9963\n",
      "Epoch 15/25\n",
      "1875/1875 [==============================] - 2s 1ms/step - loss: 0.0099 - accuracy: 0.9965\n",
      "Epoch 16/25\n",
      "1875/1875 [==============================] - 2s 1ms/step - loss: 0.0085 - accuracy: 0.9971\n",
      "Epoch 17/25\n",
      "1875/1875 [==============================] - 2s 999us/step - loss: 0.0077 - accuracy: 0.9973\n",
      "Epoch 18/25\n",
      "1875/1875 [==============================] - 2s 1ms/step - loss: 0.0094 - accuracy: 0.9969\n",
      "Epoch 19/25\n",
      "1875/1875 [==============================] - 3s 1ms/step - loss: 0.0069 - accuracy: 0.9977\n",
      "Epoch 20/25\n",
      "1875/1875 [==============================] - 2s 1ms/step - loss: 0.0086 - accuracy: 0.9972\n",
      "Epoch 21/25\n",
      "1875/1875 [==============================] - 2s 1ms/step - loss: 0.0060 - accuracy: 0.9980\n",
      "Epoch 22/25\n",
      "1875/1875 [==============================] - 2s 1ms/step - loss: 0.0079 - accuracy: 0.9976\n",
      "Epoch 23/25\n",
      "1875/1875 [==============================] - 2s 1ms/step - loss: 0.0074 - accuracy: 0.9975\n",
      "Epoch 24/25\n",
      "1875/1875 [==============================] - 2s 1ms/step - loss: 0.0059 - accuracy: 0.9979\n",
      "Epoch 25/25\n",
      "1875/1875 [==============================] - 2s 1ms/step - loss: 0.0068 - accuracy: 0.9976\n"
     ]
    },
    {
     "data": {
      "text/plain": [
       "<keras.callbacks.History at 0x1218efbafa0>"
      ]
     },
     "execution_count": 19,
     "metadata": {},
     "output_type": "execute_result"
    }
   ],
   "source": [
    "x_train = tf.keras.utils.normalize(x_train, axis = 1)\n",
    "x_test = tf.keras.utils.normalize(x_test, axis = 1)\n",
    "\n",
    "keras = tf.keras.models.Sequential()\n",
    "# sequential is a model in neural network it has layers and is predefinees\n",
    "keras.add(tf.keras.layers.Flatten())\n",
    "keras.add(tf.keras.layers.Dense(128, activation = tf.nn.relu))\n",
    "# we are adding leyerrs to improve prediction and relu is rectified linear unit\n",
    "keras.add(tf.keras.layers.Dense(128, activation = tf.nn.relu))\n",
    "keras.add(tf.keras.layers.Dense(10,activation = tf.nn.softmax))\n",
    "# now we need to compile it\n",
    "keras.compile(optimizer = 'adam', loss = 'sparse_categorical_crossentropy', metrics = ['accuracy'])\n",
    "\n",
    "# now we will fit the model\n",
    "keras.fit(x_train,y_train, epochs= 25)\n",
    "#epochs is the number of time model will go through the data set\n"
   ]
  },
  {
   "cell_type": "code",
   "execution_count": 21,
   "id": "fe76d6c3",
   "metadata": {},
   "outputs": [
    {
     "name": "stdout",
     "output_type": "stream",
     "text": [
      "313/313 [==============================] - 0s 802us/step - loss: 0.1498 - accuracy: 0.9761\n",
      "0.14983756840229034\n",
      "0.9761000275611877\n"
     ]
    }
   ],
   "source": [
    " val_loss, val_acc = keras.evaluate(x_test,y_test)\n",
    "print(val_loss)\n",
    "print(val_acc)"
   ]
  },
  {
   "cell_type": "code",
   "execution_count": 22,
   "id": "9a6987d1",
   "metadata": {},
   "outputs": [],
   "source": [
    "# this was for checking our data set"
   ]
  },
  {
   "cell_type": "code",
   "execution_count": 27,
   "id": "b44eaeda",
   "metadata": {},
   "outputs": [
    {
     "name": "stdout",
     "output_type": "stream",
     "text": [
      "INFO:tensorflow:Assets written to: neuralnetwork.model1\\assets\n"
     ]
    }
   ],
   "source": [
    "# saving this model\n",
    "keras.save('neuralnetwork.model1')"
   ]
  },
  {
   "cell_type": "code",
   "execution_count": 28,
   "id": "bbbb5071",
   "metadata": {},
   "outputs": [],
   "source": [
    "neuralnetwork = tf.keras.models.load_model('neuralnetwork.model1')"
   ]
  },
  {
   "cell_type": "code",
   "execution_count": 29,
   "id": "592246b0",
   "metadata": {},
   "outputs": [],
   "source": [
    "# this was for loading the model"
   ]
  },
  {
   "cell_type": "code",
   "execution_count": 30,
   "id": "f9ff4cd6",
   "metadata": {},
   "outputs": [],
   "source": [
    "# now we will predict"
   ]
  },
  {
   "cell_type": "code",
   "execution_count": 31,
   "id": "30cb8748",
   "metadata": {},
   "outputs": [
    {
     "name": "stdout",
     "output_type": "stream",
     "text": [
      "[[6.2378186e-24 5.6219826e-23 3.6399839e-18 ... 1.0000000e+00\n",
      "  3.6935375e-20 9.2032451e-20]\n",
      " [6.1786538e-26 3.7433005e-14 1.0000000e+00 ... 1.9429887e-21\n",
      "  3.8298995e-22 1.4224252e-23]\n",
      " [2.1624328e-20 1.0000000e+00 1.1067924e-17 ... 4.8476200e-14\n",
      "  1.0423613e-15 9.4119340e-21]\n",
      " ...\n",
      " [4.5828956e-23 1.6452022e-16 1.0455539e-25 ... 2.1953190e-15\n",
      "  6.1268548e-18 3.7419618e-16]\n",
      " [5.1137045e-29 2.3337775e-23 6.5055915e-29 ... 1.2276600e-20\n",
      "  9.7023405e-12 1.9524984e-29]\n",
      " [2.4847058e-19 2.0207682e-19 2.9581217e-19 ... 6.9002280e-27\n",
      "  9.7849041e-17 4.3159861e-23]]\n"
     ]
    }
   ],
   "source": [
    "prediction = neuralnetwork.predict(x_test)\n",
    "print(prediction)"
   ]
  },
  {
   "cell_type": "code",
   "execution_count": 33,
   "id": "368d7d82",
   "metadata": {},
   "outputs": [],
   "source": [
    "# we will test it now qki esse kuch smjh ny aayega"
   ]
  },
  {
   "cell_type": "code",
   "execution_count": 34,
   "id": "fdf4a726",
   "metadata": {},
   "outputs": [],
   "source": [
    "import numpy as np"
   ]
  },
  {
   "cell_type": "code",
   "execution_count": 39,
   "id": "119dc368",
   "metadata": {},
   "outputs": [
    {
     "name": "stdout",
     "output_type": "stream",
     "text": [
      "0\n"
     ]
    }
   ],
   "source": [
    "print(np.argmax(prediction[25]))"
   ]
  },
  {
   "cell_type": "code",
   "execution_count": 40,
   "id": "038a105e",
   "metadata": {},
   "outputs": [],
   "source": [
    "# here it prints which number is present at given instance\n",
    "#now we will check if the printed number is true or not"
   ]
  },
  {
   "cell_type": "code",
   "execution_count": 41,
   "id": "241b7152",
   "metadata": {},
   "outputs": [
    {
     "data": {
      "image/png": "[encoded data removed]",
      "text/plain": [
       "<Figure size 432x288 with 1 Axes>"
      ]
     },
     "metadata": {
      "needs_background": "light"
     },
     "output_type": "display_data"
    }
   ],
   "source": [
    "plt.imshow(x_test[25])\n",
    "plt.show()"
   ]
  },
  {
   "cell_type": "code",
   "execution_count": null,
   "id": "f443b072",
   "metadata": {},
   "outputs": [],
   "source": []
  }
 ],
 "metadata": {
  "kernelspec": {
   "display_name": "Python 3 (ipykernel)",
   "language": "python",
   "name": "python3"
  },
  "language_info": {
   "codemirror_mode": {
    "name": "ipython",
    "version": 3
   },
   "file_extension": ".py",
   "mimetype": "text/x-python",
   "name": "python",
   "nbconvert_exporter": "python",
   "pygments_lexer": "ipython3",
   "version": "3.9.7"
  }
 },
 "nbformat": 4,
 "nbformat_minor": 5
}
